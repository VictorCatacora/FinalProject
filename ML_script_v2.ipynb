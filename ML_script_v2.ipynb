{
 "cells": [
  {
   "cell_type": "code",
   "execution_count": 2,
   "metadata": {},
   "outputs": [],
   "source": [
    "################ ---------------ETL ------------------\n",
    "\n",
    "# Dependencies and Setup\n",
    "\n",
    "%matplotlib inline\n",
    "# Dependencies\n",
    "import csv\n",
    "import matplotlib.pyplot as plt\n",
    "import requests\n",
    "import pandas as pd\n",
    "import numpy as np\n",
    "from pprint import pprint\n",
    "import scipy.stats as stats"
   ]
  },
  {
   "cell_type": "code",
   "execution_count": null,
   "metadata": {},
   "outputs": [],
   "source": []
  },
  {
   "cell_type": "code",
   "execution_count": 3,
   "metadata": {},
   "outputs": [
    {
     "data": {
      "text/plain": [
       "Index(['dates', 'rnc', 'cellid', 'cellname', 'nodebname', 'availability',\n",
       "       'cs_call_completion', 'ps_call_completion', 'throughput_kbps', 'rtwp',\n",
       "       'traffic', 'traffic_mb', 'propagation_mts', 'quality_ecno',\n",
       "       'goodquality', 'users_data', 'users_total', 'coverage_rscp'],\n",
       "      dtype='object')"
      ]
     },
     "execution_count": 3,
     "metadata": {},
     "output_type": "execute_result"
    }
   ],
   "source": [
    "PM_data = \"PM_ML.csv\"\n",
    "PM_data = pd.read_csv(PM_data)\n",
    "PM_data_rename = PM_data.rename(columns={\"Radar_Availability(%)\": \"availability\",\n",
    "                                                        \"Radar_CS(Call_Completion)\": \"cs_call_completion\",\n",
    "                                                        \"Radar_PS(Call_Completion)\": \"ps_call_completion\",\n",
    "                                                        \"Radar_Throughput_R17(kbit/s)\": \"throughput_kbps\",\n",
    "                                                        \"Radar_RTWP\": \"rtwp\",\n",
    "                                                        \"Radar_Cell Erlang Equivalents\": \"traffic\",\n",
    "                                                        \"6.PS_TRAFFIC VOLUME_DL_HSDPA(MB)\": \"traffic_mb\",\n",
    "                                                        \"VS.TP.UE.Mean\": \"propagation_mts\",\n",
    "                                                        \"VS.Periodic.MrRpt.EcNo.MEAN(dB)\": \"quality_ecno\",\n",
    "                                                        \"GoodRrcAccessEcnoSamples12dB(%)\": \"goodquality\",\n",
    "                                                        \"VS.HSDPA.UE.Mean.Cell\": \"users_data\",\n",
    "                                                        \"VS.CellDCHUEs\": \"users_total\",\n",
    "                                                        \"Date\":\"dates\",\n",
    "                                                        \"RNC\":\"rnc\",\n",
    "                                                        \"NodeB Name\":\"nodebname\",\n",
    "                                                        \"VS.Periodic.MrRpt.RSCP.MEAN\": \"coverage_rscp\",\n",
    "                                        \"Cell ID\":\"cellid\",\"Cell Name\":\"cellname\"})\n",
    "PM_data_rename.index.names = ['id']\n",
    "KPM_data_rename_clean=PM_data_rename.dropna(axis = 0, how ='any')\n",
    "\n",
    "KPM_data_rename_clean = KPM_data_rename_clean[KPM_data_rename_clean.cs_call_completion != \"/0\"]\n",
    "KPM_data_rename_clean = KPM_data_rename_clean[KPM_data_rename_clean.cs_call_completion != \"NIL\"]\n",
    "KPM_data_rename_clean = KPM_data_rename_clean[KPM_data_rename_clean.ps_call_completion != \"/0\"]\n",
    "KPM_data_rename_clean = KPM_data_rename_clean[KPM_data_rename_clean.ps_call_completion!= \"NIL\"]\n",
    "KPM_data_rename_clean= KPM_data_rename_clean[KPM_data_rename_clean.throughput_kbps  != \"/0\"]\n",
    "KPM_data_rename_clean = KPM_data_rename_clean[KPM_data_rename_clean.throughput_kbps != \"NIL\"]\n",
    "KPM_data_rename_clean = KPM_data_rename_clean[KPM_data_rename_clean.rtwp   != \"/0\"]\n",
    "KPM_data_rename_clean = KPM_data_rename_clean[KPM_data_rename_clean.rtwp  != \"NIL\"]\n",
    "KPM_data_rename_clean = KPM_data_rename_clean[KPM_data_rename_clean.availability  != \"/0\"]\n",
    "KPM_data_rename_clean = KPM_data_rename_clean[KPM_data_rename_clean.availability  != \"NIL\"]\n",
    "KPM_data_rename_clean = KPM_data_rename_clean[KPM_data_rename_clean.traffic   != \"/0\"]\n",
    "KPM_data_rename_clean = KPM_data_rename_clean[KPM_data_rename_clean.traffic   != \"NIL\"]\n",
    "KPM_data_rename_clean = KPM_data_rename_clean[KPM_data_rename_clean.traffic_mb  != \"/0\"]\n",
    "KPM_data_rename_clean = KPM_data_rename_clean[KPM_data_rename_clean.traffic_mb  != \"NIL\"]\n",
    "KPM_data_rename_clean = KPM_data_rename_clean[KPM_data_rename_clean.propagation_mts   != \"/0\"]\n",
    "KPM_data_rename_clean = KPM_data_rename_clean[KPM_data_rename_clean.propagation_mts   != \"NIL\"]\n",
    "KPM_data_rename_clean = KPM_data_rename_clean[KPM_data_rename_clean.quality_ecno   != \"/0\"]\n",
    "KPM_data_rename_clean = KPM_data_rename_clean[KPM_data_rename_clean.quality_ecno   != \"NIL\"]\n",
    "KPM_data_rename_clean = KPM_data_rename_clean[KPM_data_rename_clean.goodquality   != \"/0\"]\n",
    "KPM_data_rename_clean = KPM_data_rename_clean[KPM_data_rename_clean.goodquality   != \"NIL\"]\n",
    "KPM_data_rename_clean = KPM_data_rename_clean[KPM_data_rename_clean.users_data    != \"/0\"]\n",
    "KPM_data_rename_clean = KPM_data_rename_clean[KPM_data_rename_clean.users_data    != \"NIL\"]\n",
    "KPM_data_rename_clean = KPM_data_rename_clean[KPM_data_rename_clean.users_total   != \"/0\"]\n",
    "KPM_data_rename_clean = KPM_data_rename_clean[KPM_data_rename_clean.users_total   != \"NIL\"]\n",
    "KPM_data_rename_clean = KPM_data_rename_clean[KPM_data_rename_clean.coverage_rscp     != \"/0\"]\n",
    "KPM_data_rename_clean = KPM_data_rename_clean[KPM_data_rename_clean.coverage_rscp    != \"NIL\"]\n",
    "\n",
    "KPM_data_rename_clean.columns"
   ]
  },
  {
   "cell_type": "code",
   "execution_count": 4,
   "metadata": {},
   "outputs": [
    {
     "name": "stderr",
     "output_type": "stream",
     "text": [
      "C:\\Programas\\Anaconda3\\envs\\PythonData\\lib\\site-packages\\IPython\\core\\interactiveshell.py:3058: DtypeWarning: Columns (12,17,20) have mixed types. Specify dtype option on import or set low_memory=False.\n",
      "  interactivity=interactivity, compiler=compiler, result=result)\n"
     ]
    },
    {
     "data": {
      "text/plain": [
       "Index(['cellname', 'azimuth', 'banda', 'cpich', 'maxpower', 'tp_85%'], dtype='object')"
      ]
     },
     "execution_count": 4,
     "metadata": {},
     "output_type": "execute_result"
    }
   ],
   "source": [
    "Cell_Level = \"Cell_Level_Report_Week44.csv\"\n",
    "Cell_Level_data = pd.read_csv(Cell_Level, encoding = \"ISO-8859-1\")\n",
    "Cell_Radar=Cell_Level_data[['[SectorName]','AZIMUTH','FREQUENCY_BAND','[PrimaryCpichPower]','[MaxPower]','[PD_85]']].copy()\n",
    "Cell_Radar= Cell_Radar.rename(columns={\"[SectorName]\":\"cellname\",\"AZIMUTH\":\"azimuth\",\"FREQUENCY_BAND\":\"banda\",\n",
    "                                      \"[PrimaryCpichPower]\":\"cpich\",\"[MaxPower]\":\"maxpower\",\"[PD_85]\":\"tp_85%\"})\n",
    "Cell_Radar.columns"
   ]
  },
  {
   "cell_type": "code",
   "execution_count": 5,
   "metadata": {},
   "outputs": [
    {
     "data": {
      "text/plain": [
       "Index(['cellname', 'traffic_load'], dtype='object')"
      ]
     },
     "execution_count": 5,
     "metadata": {},
     "output_type": "execute_result"
    }
   ],
   "source": [
    "Radar = \"Radar_w44.csv\"\n",
    "Radar_data = pd.read_csv(Radar) \n",
    "Radar=Radar_data[['CellName','Traffic_Load']].copy()\n",
    "Radar= Radar.rename(columns={\"CellName\":\"cellname\",\"Traffic_Load\":\"traffic_load\"})\n",
    "Radar.columns"
   ]
  },
  {
   "cell_type": "code",
   "execution_count": 6,
   "metadata": {},
   "outputs": [
    {
     "data": {
      "text/plain": [
       "Index(['cellname', 'coi', 'neigh_dist', 'morphology', 'overshooting'], dtype='object')"
      ]
     },
     "execution_count": 6,
     "metadata": {},
     "output_type": "execute_result"
    }
   ],
   "source": [
    "OVERSHOOTER_R5= \"OVERSHOOTER UMTS_W44.csv\"\n",
    "OVERSHOOTER_R5 = pd.read_csv(OVERSHOOTER_R5, encoding = \"ISO-8859-1\")\n",
    "OVERSHOOTER_R5= OVERSHOOTER_R5.rename(columns={\"Cell Name\":\"cellname\",\"Distance\":\"neigh_dist\" })\n",
    "OVERSHOOTER_R5=OVERSHOOTER_R5[['cellname','COI','neigh_dist','Morphology','Overshooting']].copy()\n",
    "OVERSHOOTER_R5= OVERSHOOTER_R5.rename(columns={\"COI\":\"coi\",\"Morphology\":\"morphology\",\"Overshooting\":\"overshooting\" })\n",
    "OVERSHOOTER_R5.columns"
   ]
  },
  {
   "cell_type": "code",
   "execution_count": 7,
   "metadata": {},
   "outputs": [
    {
     "data": {
      "text/plain": [
       "Index(['cellname', 'rnc', 'site', 'site_name', 'azimuth', 'height', 'latitude',\n",
       "       'longitude', 'mechtilt', 'hbwidth', 'vbwidth'],\n",
       "      dtype='object')"
      ]
     },
     "execution_count": 7,
     "metadata": {},
     "output_type": "execute_result"
    }
   ],
   "source": [
    "CM_data = \"EPT_ALL_W44.csv\"\n",
    "CMData_Nodes_df= pd.read_csv(CM_data, encoding = \"ISO-8859-1\") \n",
    "New_CMData_Nodes_df= CMData_Nodes_df[['CELL','RNC',\n",
    "                                    'Site','SITE NAME',\n",
    "                                    'Azimuth','Height',\n",
    "                                    'Latitude','Longitude','Mech Downtilt','Horizontal Beam Width',\n",
    "                                     'Vertical Beam Width']].copy()\n",
    "New_CMData_Nodes_df = New_CMData_Nodes_df.iloc[1:]\n",
    "New_CMData_Nodes_df  = New_CMData_Nodes_df .rename(columns={\"CELL\": \"cellname\",\n",
    "                                                        \"RNC\": \"rnc\",\n",
    "                                                        \"Site\": \"site\",\n",
    "                                                        \"SITE NAME\": \"site_name\",\n",
    "                                                        \"Azimuth\": \"azimuth\",\n",
    "                                                        \"Height\": \"height\",\n",
    "                                                        \"Latitude\": \"latitude\",\n",
    "                                                        \"Longitude\": \"longitude\",\n",
    "                                                           \"Mech Downtilt\":\"mechtilt\",\n",
    "                                                          \"Horizontal Beam Width\":\"hbwidth\",\n",
    "                                                           \"Vertical Beam Width\":\"vbwidth\"})\n",
    "New_CMData_Nodes_df.index.names = ['id']\n",
    "New_CMData_Nodes_df.columns"
   ]
  },
  {
   "cell_type": "code",
   "execution_count": 24,
   "metadata": {},
   "outputs": [
    {
     "data": {
      "text/html": [
       "<div>\n",
       "<style scoped>\n",
       "    .dataframe tbody tr th:only-of-type {\n",
       "        vertical-align: middle;\n",
       "    }\n",
       "\n",
       "    .dataframe tbody tr th {\n",
       "        vertical-align: top;\n",
       "    }\n",
       "\n",
       "    .dataframe thead th {\n",
       "        text-align: right;\n",
       "    }\n",
       "</style>\n",
       "<table border=\"1\" class=\"dataframe\">\n",
       "  <thead>\n",
       "    <tr style=\"text-align: right;\">\n",
       "      <th></th>\n",
       "      <th>cellname</th>\n",
       "      <th>tilt</th>\n",
       "    </tr>\n",
       "  </thead>\n",
       "  <tbody>\n",
       "    <tr>\n",
       "      <th>0</th>\n",
       "      <td>JLU2094</td>\n",
       "      <td>15</td>\n",
       "    </tr>\n",
       "    <tr>\n",
       "      <th>1</th>\n",
       "      <td>JLX2094</td>\n",
       "      <td>15</td>\n",
       "    </tr>\n",
       "    <tr>\n",
       "      <th>2</th>\n",
       "      <td>JLW2094</td>\n",
       "      <td>15</td>\n",
       "    </tr>\n",
       "    <tr>\n",
       "      <th>3</th>\n",
       "      <td>JLZ2094</td>\n",
       "      <td>15</td>\n",
       "    </tr>\n",
       "    <tr>\n",
       "      <th>4</th>\n",
       "      <td>JLU2558</td>\n",
       "      <td>15</td>\n",
       "    </tr>\n",
       "  </tbody>\n",
       "</table>\n",
       "</div>"
      ],
      "text/plain": [
       "  cellname  tilt\n",
       "0  JLU2094    15\n",
       "1  JLX2094    15\n",
       "2  JLW2094    15\n",
       "3  JLZ2094    15\n",
       "4  JLU2558    15"
      ]
     },
     "execution_count": 24,
     "metadata": {},
     "output_type": "execute_result"
    }
   ],
   "source": [
    "Tilt_data = \"tilt_v4.csv\"\n",
    "Tilt_data_df= pd.read_csv(Tilt_data, encoding = \"ISO-8859-1\") \n",
    "Tilt_final= Tilt_data_df.rename(columns={\"Cell Name\":\"cellname\",\"Actual Tilt(0.1degree)\":\"tilt\" })\n",
    "Tilt_final.head()"
   ]
  },
  {
   "cell_type": "code",
   "execution_count": null,
   "metadata": {},
   "outputs": [],
   "source": []
  },
  {
   "cell_type": "code",
   "execution_count": 25,
   "metadata": {},
   "outputs": [],
   "source": [
    "ML_model= pd.merge(KPM_data_rename_clean,Cell_Radar, on='cellname', how='left')\n",
    "ML_model= pd.merge(ML_model,Radar, on='cellname', how='left')\n",
    "ML_model= pd.merge(ML_model,OVERSHOOTER_R5, on='cellname', how='left')\n",
    "ML_model= pd.merge(ML_model,New_CMData_Nodes_df, on='cellname', how='left')\n",
    "ML_model= pd.merge(ML_model,Tilt_final, on='cellname', how='left')\n",
    "ML_data=ML_model[['cs_call_completion','ps_call_completion','throughput_kbps','rtwp','traffic',\n",
    "                                    'quality_ecno','goodquality',\n",
    "                 'users_data','users_total','coverage_rscp','banda','cpich',\n",
    "                 'maxpower','traffic_load','tp_85%','morphology','height','mechtilt',\n",
    "                 'hbwidth','vbwidth','tilt']].copy()\n",
    "ML_data = ML_data.dropna(axis='columns', how='all')\n",
    "ML_data = ML_data.dropna()\n",
    "convert_dict = {'cs_call_completion': float, \n",
    "                'ps_call_completion': float,\n",
    "                'throughput_kbps':float,\n",
    "                'rtwp':float,\n",
    "                'traffic':float,\n",
    "                'quality_ecno':float,\n",
    "                'goodquality':float,\n",
    "                'users_data':float,\n",
    "                'users_total':float,\n",
    "                'coverage_rscp':float            \n",
    "                          }\n",
    "ML_data = ML_data.astype(convert_dict)\n",
    "ML_data.to_csv (r'C:\\Vicvaporub\\Bootcamp\\Project Final\\Resumen\\JupyterNotebook\\ML_database_v2.csv', \n",
    "                          index = None, header=True)"
   ]
  },
  {
   "cell_type": "code",
   "execution_count": null,
   "metadata": {},
   "outputs": [],
   "source": []
  },
  {
   "cell_type": "code",
   "execution_count": 26,
   "metadata": {},
   "outputs": [],
   "source": [
    "ML_data_denseurban = ML_data.loc[ML_data.morphology == \"DU\"]\n",
    "ML_data_urban = ML_data.loc[ML_data.morphology == \"UR\"]\n",
    "ML_data_rural = ML_data.loc[ML_data.morphology == \"SU/RU\"]\n",
    "ML_data_denseurban=ML_data_denseurban.drop(columns=[\"morphology\"])\n",
    "ML_data_urban=ML_data_urban.drop(columns=[\"morphology\"])\n",
    "ML_data_rural=ML_data_rural.drop(columns=[\"morphology\"])\n",
    "y_denseurban = ML_data_denseurban[\"tilt\"]\n",
    "X_denseurban = ML_data_denseurban.drop(columns=[\"tilt\"])\n",
    "y_urban = ML_data_urban[\"tilt\"]\n",
    "X_urban = ML_data_urban.drop(columns=[\"tilt\"])\n",
    "y_rural = ML_data_rural[\"tilt\"]\n",
    "X_rural = ML_data_rural.drop(columns=[\"tilt\"])"
   ]
  },
  {
   "cell_type": "code",
   "execution_count": 27,
   "metadata": {},
   "outputs": [],
   "source": [
    "from sklearn.model_selection import train_test_split\n",
    "X_train, X_test, y_train, y_test = train_test_split(X_denseurban, y_denseurban, random_state=1, stratify=y_denseurban)\n",
    "X_train_urban, X_test_urban, y_train_urban, y_test_urban = train_test_split(X_urban, y_urban, random_state=1, stratify=y_urban)\n",
    "X_train_rural, X_test_rural, y_train_rural, y_test_rural = train_test_split(X_rural, y_rural, random_state=1, stratify=y_rural)"
   ]
  },
  {
   "cell_type": "code",
   "execution_count": null,
   "metadata": {},
   "outputs": [],
   "source": []
  },
  {
   "cell_type": "code",
   "execution_count": 28,
   "metadata": {},
   "outputs": [],
   "source": [
    "y_test.to_csv (r'C:\\Vicvaporub\\Bootcamp\\Project Final\\Resumen\\JupyterNotebook\\y_test.csv', \n",
    "                          index = None, header=True)\n",
    "y_test_urban.to_csv (r'C:\\Vicvaporub\\Bootcamp\\Project Final\\Resumen\\JupyterNotebook\\y_test_urban.csv', \n",
    "                          index = None, header=True)\n",
    "y_test_rural.to_csv (r'C:\\Vicvaporub\\Bootcamp\\Project Final\\Resumen\\JupyterNotebook\\y_test_rural.csv', \n",
    "                          index = None, header=True)"
   ]
  },
  {
   "cell_type": "code",
   "execution_count": null,
   "metadata": {},
   "outputs": [],
   "source": []
  },
  {
   "cell_type": "code",
   "execution_count": 29,
   "metadata": {},
   "outputs": [],
   "source": [
    "from sklearn.preprocessing import MinMaxScaler\n",
    "X_scaler = MinMaxScaler().fit(X_train)\n",
    "X_train_scaled = X_scaler.transform(X_train)\n",
    "X_test_scaled = X_scaler.transform(X_test)\n",
    "X_scaler_urban = MinMaxScaler().fit(X_train_urban)\n",
    "X_train_scaled_urban = X_scaler.transform(X_train_urban)\n",
    "X_test_scaled_urban = X_scaler.transform(X_test_urban)\n",
    "X_scaler_rural = MinMaxScaler().fit(X_train_rural)\n",
    "X_train_scaled_rural = X_scaler.transform(X_train_rural)\n",
    "X_test_scaled_rural = X_scaler.transform(X_test_rural)"
   ]
  },
  {
   "cell_type": "code",
   "execution_count": null,
   "metadata": {},
   "outputs": [],
   "source": []
  },
  {
   "cell_type": "code",
   "execution_count": 30,
   "metadata": {},
   "outputs": [],
   "source": [
    "import tensorflow as tf\n",
    "from keras.models import Sequential\n",
    "from keras.utils import to_categorical\n",
    "from keras.layers import Dense\n",
    "from sklearn.preprocessing import LabelEncoder\n",
    "from keras.callbacks import EarlyStopping"
   ]
  },
  {
   "cell_type": "code",
   "execution_count": null,
   "metadata": {},
   "outputs": [],
   "source": []
  },
  {
   "cell_type": "code",
   "execution_count": 31,
   "metadata": {},
   "outputs": [],
   "source": [
    "label_encoder = LabelEncoder()\n",
    "label_encoder.fit(y_train)\n",
    "encoded_y_train = label_encoder.transform(y_train)\n",
    "encoded_y_test = label_encoder.transform(y_test)\n",
    "y_train_categorical = to_categorical(encoded_y_train)\n",
    "y_test_categorical = to_categorical(encoded_y_test)\n",
    "label_encoder = LabelEncoder()\n",
    "label_encoder.fit(y_train_urban)\n",
    "encoded_y_train_urban = label_encoder.transform(y_train_urban)\n",
    "encoded_y_test_urban = label_encoder.transform(y_test_urban)\n",
    "y_train_categorical_urban = to_categorical(encoded_y_train_urban)\n",
    "y_test_categorical_urban = to_categorical(encoded_y_test_urban)\n",
    "label_encoder = LabelEncoder()\n",
    "label_encoder.fit(y_train_rural)\n",
    "encoded_y_train_rural = label_encoder.transform(y_train_rural)\n",
    "encoded_y_test_rural = label_encoder.transform(y_test_rural)\n",
    "y_train_categorical_rural = to_categorical(encoded_y_train_rural)\n",
    "y_test_categorical_rural = to_categorical(encoded_y_test_rural)"
   ]
  },
  {
   "cell_type": "code",
   "execution_count": 35,
   "metadata": {},
   "outputs": [
    {
     "name": "stdout",
     "output_type": "stream",
     "text": [
      "Epoch 1/60\n",
      " - 1s - loss: 1.1606 - accuracy: 0.4057\n",
      "Epoch 2/60\n",
      " - 0s - loss: 0.9770 - accuracy: 0.4713\n",
      "Epoch 3/60\n",
      " - 0s - loss: 0.9502 - accuracy: 0.4426\n",
      "Epoch 4/60\n"
     ]
    },
    {
     "name": "stderr",
     "output_type": "stream",
     "text": [
      "C:\\Programas\\Anaconda3\\envs\\PythonData\\lib\\site-packages\\keras\\callbacks\\callbacks.py:846: RuntimeWarning: Early stopping conditioned on metric `val_loss` which is not available. Available metrics are: loss,accuracy\n",
      "  (self.monitor, ','.join(list(logs.keys()))), RuntimeWarning\n"
     ]
    },
    {
     "name": "stdout",
     "output_type": "stream",
     "text": [
      " - 0s - loss: 0.9306 - accuracy: 0.5041\n",
      "Epoch 5/60\n",
      " - 0s - loss: 0.9225 - accuracy: 0.5287\n",
      "Epoch 6/60\n",
      " - 0s - loss: 0.9083 - accuracy: 0.5738\n",
      "Epoch 7/60\n",
      " - 0s - loss: 0.9017 - accuracy: 0.5287\n",
      "Epoch 8/60\n",
      " - 0s - loss: 0.8719 - accuracy: 0.5738\n",
      "Epoch 9/60\n",
      " - 0s - loss: 0.8704 - accuracy: 0.5984\n",
      "Epoch 10/60\n",
      " - 0s - loss: 0.8974 - accuracy: 0.5410\n",
      "Epoch 11/60\n",
      " - 0s - loss: 0.8530 - accuracy: 0.5902\n",
      "Epoch 12/60\n",
      " - 0s - loss: 0.8178 - accuracy: 0.6516\n",
      "Epoch 13/60\n",
      " - 0s - loss: 0.8505 - accuracy: 0.5779\n",
      "Epoch 14/60\n",
      " - 0s - loss: 0.7878 - accuracy: 0.6598\n",
      "Epoch 15/60\n",
      " - 0s - loss: 0.7782 - accuracy: 0.6352\n",
      "Epoch 16/60\n",
      " - 0s - loss: 0.7815 - accuracy: 0.6475\n",
      "Epoch 17/60\n",
      " - 0s - loss: 0.7531 - accuracy: 0.6516\n",
      "Epoch 18/60\n",
      " - 0s - loss: 0.7661 - accuracy: 0.6475\n",
      "Epoch 19/60\n",
      " - 0s - loss: 0.7680 - accuracy: 0.6557\n",
      "Epoch 20/60\n",
      " - 0s - loss: 0.8324 - accuracy: 0.6516\n",
      "Epoch 21/60\n",
      " - 0s - loss: 0.7120 - accuracy: 0.6803\n",
      "Epoch 22/60\n",
      " - 0s - loss: 0.7080 - accuracy: 0.7049\n",
      "Epoch 23/60\n",
      " - 0s - loss: 0.6565 - accuracy: 0.7008\n",
      "Epoch 24/60\n",
      " - 0s - loss: 0.6543 - accuracy: 0.7008\n",
      "Epoch 25/60\n",
      " - 0s - loss: 0.6048 - accuracy: 0.7459\n",
      "Epoch 26/60\n",
      " - 0s - loss: 0.6490 - accuracy: 0.7418\n",
      "Epoch 27/60\n",
      " - 0s - loss: 0.6028 - accuracy: 0.7500\n",
      "Epoch 28/60\n",
      " - 0s - loss: 0.5474 - accuracy: 0.7623\n",
      "Epoch 29/60\n",
      " - 0s - loss: 0.5333 - accuracy: 0.7582\n",
      "Epoch 30/60\n",
      " - 0s - loss: 0.6350 - accuracy: 0.7336\n",
      "Epoch 31/60\n",
      " - 0s - loss: 0.6774 - accuracy: 0.6885\n",
      "Epoch 32/60\n",
      " - 0s - loss: 0.5924 - accuracy: 0.7377\n",
      "Epoch 33/60\n",
      " - 0s - loss: 0.4941 - accuracy: 0.7910\n",
      "Epoch 34/60\n",
      " - 0s - loss: 0.5244 - accuracy: 0.7951\n",
      "Epoch 35/60\n",
      " - 0s - loss: 0.4778 - accuracy: 0.7951\n",
      "Epoch 36/60\n",
      " - 0s - loss: 0.4323 - accuracy: 0.8238\n",
      "Epoch 37/60\n",
      " - 0s - loss: 0.4302 - accuracy: 0.8156\n",
      "Epoch 38/60\n",
      " - 0s - loss: 0.4512 - accuracy: 0.7869\n",
      "Epoch 39/60\n",
      " - 0s - loss: 0.4277 - accuracy: 0.8320\n",
      "Epoch 40/60\n",
      " - 0s - loss: 0.4074 - accuracy: 0.8279\n",
      "Epoch 41/60\n",
      " - 0s - loss: 0.3478 - accuracy: 0.8402\n",
      "Epoch 42/60\n",
      " - 0s - loss: 0.3893 - accuracy: 0.8279\n",
      "Epoch 43/60\n",
      " - 0s - loss: 0.3341 - accuracy: 0.8320\n",
      "Epoch 44/60\n",
      " - 0s - loss: 0.3029 - accuracy: 0.8689\n",
      "Epoch 45/60\n",
      " - 0s - loss: 0.2883 - accuracy: 0.8770\n",
      "Epoch 46/60\n",
      " - 0s - loss: 0.2950 - accuracy: 0.8934\n",
      "Epoch 47/60\n",
      " - 0s - loss: 0.2879 - accuracy: 0.8525\n",
      "Epoch 48/60\n",
      " - 0s - loss: 0.3081 - accuracy: 0.8934\n",
      "Epoch 49/60\n",
      " - 0s - loss: 0.2605 - accuracy: 0.8975\n",
      "Epoch 50/60\n",
      " - 0s - loss: 0.2840 - accuracy: 0.8770\n",
      "Epoch 51/60\n",
      " - 0s - loss: 0.3194 - accuracy: 0.8893\n",
      "Epoch 52/60\n",
      " - 0s - loss: 0.3377 - accuracy: 0.8279\n",
      "Epoch 53/60\n",
      " - 0s - loss: 0.3393 - accuracy: 0.8402\n",
      "Epoch 54/60\n",
      " - 0s - loss: 0.2799 - accuracy: 0.8648\n",
      "Epoch 55/60\n",
      " - 0s - loss: 0.2613 - accuracy: 0.8852\n",
      "Epoch 56/60\n",
      " - 0s - loss: 0.2440 - accuracy: 0.8852\n",
      "Epoch 57/60\n",
      " - 0s - loss: 0.2030 - accuracy: 0.9098\n",
      "Epoch 58/60\n",
      " - 0s - loss: 0.2665 - accuracy: 0.8770\n",
      "Epoch 59/60\n",
      " - 0s - loss: 0.2649 - accuracy: 0.8730\n",
      "Epoch 60/60\n",
      " - 0s - loss: 0.2686 - accuracy: 0.8730\n",
      "Normal Neural Network DenseUrban- Loss: 0.7581228744692918, Accuracy DenseUrban: 0.7682926654815674\n"
     ]
    }
   ],
   "source": [
    "model = Sequential()\n",
    "model.add(Dense(units=200, activation='relu', input_dim=19))\n",
    "model.add(Dense(units=200, activation='relu'))\n",
    "model.add(Dense(units=200, activation='relu'))\n",
    "model.add(Dense(units=200, activation='relu'))\n",
    "model.add(Dense(units=200, activation='relu'))\n",
    "model.add(Dense(units=200, activation='relu'))\n",
    "model.add(Dense(units=200, activation='relu'))\n",
    "\n",
    "model.add(Dense(units=4, activation='softmax'))\n",
    "model.compile(optimizer='adam',\n",
    "              loss='categorical_crossentropy',\n",
    "              metrics=['accuracy'])\n",
    "# set early stopping as callback\n",
    "callbacks = [EarlyStopping(monitor='val_loss', patience=2)]\n",
    "model.fit(\n",
    "    X_train_scaled,\n",
    "    y_train_categorical,\n",
    "    callbacks=callbacks,\n",
    "    epochs=60,\n",
    "    shuffle=True,\n",
    "    verbose=2\n",
    ")\n",
    "model_loss, model_accuracy = model.evaluate(\n",
    "    X_test_scaled, y_test_categorical, verbose=2)\n",
    "print(\n",
    "    f\"Normal Neural Network DenseUrban- Loss: {model_loss}, Accuracy DenseUrban: {model_accuracy}\")"
   ]
  },
  {
   "cell_type": "code",
   "execution_count": null,
   "metadata": {},
   "outputs": [],
   "source": [
    "Normal Neural Network DenseUrban- Loss: 0.7581228744692918, Accuracy DenseUrban: 0.7682926654815674"
   ]
  },
  {
   "cell_type": "code",
   "execution_count": 39,
   "metadata": {},
   "outputs": [
    {
     "data": {
      "text/plain": [
       "16009    10.0\n",
       "6975     10.0\n",
       "11296    10.0\n",
       "17975     5.0\n",
       "28153     5.0\n",
       "Name: tilt, dtype: float64"
      ]
     },
     "execution_count": 39,
     "metadata": {},
     "output_type": "execute_result"
    }
   ],
   "source": [
    "y_test[:5]"
   ]
  },
  {
   "cell_type": "code",
   "execution_count": 64,
   "metadata": {},
   "outputs": [
    {
     "data": {
      "text/plain": [
       "array([ 5.,  5., 10.,  5., 10.,  5., 10.,  5.,  5.,  5.,  5.,  5.,  5.,\n",
       "        5., 10.,  5., 10.,  5., 10., 10., 10.,  5., 10.,  5.,  5.,  5.,\n",
       "        5.,  5.,  5.,  5.,  5.,  5.,  5.,  5.,  5.,  5., 10., 10., 10.,\n",
       "       10.,  5., 10., 10., 10.,  5.,  5., 10., 10.,  5., 10., 10.,  5.,\n",
       "        5., 10.,  5.,  5., 10., 10., 10.,  5.,  5.,  5., 10.,  5.,  5.,\n",
       "        5.,  5.,  5., 10., 10.,  5., 10.,  5.,  5.,  5., 10.,  5.,  5.,\n",
       "        5.,  5.,  5.,  5.])"
      ]
     },
     "execution_count": 64,
     "metadata": {},
     "output_type": "execute_result"
    }
   ],
   "source": [
    "encoded_predictions = model.predict_classes(X_test_scaled[:100])\n",
    "prediction_labels = label_encoder.inverse_transform(encoded_predictions)\n",
    "prediction_labels"
   ]
  },
  {
   "cell_type": "code",
   "execution_count": null,
   "metadata": {},
   "outputs": [],
   "source": []
  },
  {
   "cell_type": "code",
   "execution_count": 41,
   "metadata": {},
   "outputs": [
    {
     "data": {
      "text/plain": [
       "['deep_learning_denseurban_v2.sav']"
      ]
     },
     "execution_count": 41,
     "metadata": {},
     "output_type": "execute_result"
    }
   ],
   "source": [
    "# save fitted model to file\n",
    "import joblib\n",
    "filename = 'deep_learning_denseurban_v2.sav'\n",
    "joblib.dump(model, filename)"
   ]
  },
  {
   "cell_type": "code",
   "execution_count": null,
   "metadata": {},
   "outputs": [],
   "source": [
    "###SUBURBAN"
   ]
  },
  {
   "cell_type": "code",
   "execution_count": 45,
   "metadata": {},
   "outputs": [
    {
     "name": "stdout",
     "output_type": "stream",
     "text": [
      "Epoch 1/60\n",
      " - 1s - loss: 0.9835 - accuracy: 0.5280\n",
      "Epoch 2/60\n"
     ]
    },
    {
     "name": "stderr",
     "output_type": "stream",
     "text": [
      "C:\\Programas\\Anaconda3\\envs\\PythonData\\lib\\site-packages\\keras\\callbacks\\callbacks.py:846: RuntimeWarning: Early stopping conditioned on metric `val_loss` which is not available. Available metrics are: loss,accuracy\n",
      "  (self.monitor, ','.join(list(logs.keys()))), RuntimeWarning\n"
     ]
    },
    {
     "name": "stdout",
     "output_type": "stream",
     "text": [
      " - 1s - loss: 0.9202 - accuracy: 0.5789\n",
      "Epoch 3/60\n",
      " - 1s - loss: 0.8947 - accuracy: 0.5879\n",
      "Epoch 4/60\n",
      " - 1s - loss: 0.8798 - accuracy: 0.6008\n",
      "Epoch 5/60\n",
      " - 1s - loss: 0.8607 - accuracy: 0.6147\n",
      "Epoch 6/60\n",
      " - 1s - loss: 0.8577 - accuracy: 0.6050\n",
      "Epoch 7/60\n",
      " - 1s - loss: 0.8378 - accuracy: 0.6153\n",
      "Epoch 8/60\n",
      " - 1s - loss: 0.8433 - accuracy: 0.6130\n",
      "Epoch 9/60\n",
      " - 1s - loss: 0.8267 - accuracy: 0.6241\n",
      "Epoch 10/60\n",
      " - 1s - loss: 0.8246 - accuracy: 0.6170\n",
      "Epoch 11/60\n",
      " - 1s - loss: 0.8099 - accuracy: 0.6266\n",
      "Epoch 12/60\n",
      " - 1s - loss: 0.8086 - accuracy: 0.6301\n",
      "Epoch 13/60\n",
      " - 1s - loss: 0.8005 - accuracy: 0.6317\n",
      "Epoch 14/60\n",
      " - 1s - loss: 0.7959 - accuracy: 0.6370\n",
      "Epoch 15/60\n",
      " - 1s - loss: 0.7919 - accuracy: 0.6393\n",
      "Epoch 16/60\n",
      " - 1s - loss: 0.7784 - accuracy: 0.6501\n",
      "Epoch 17/60\n",
      " - 1s - loss: 0.7696 - accuracy: 0.6513\n",
      "Epoch 18/60\n",
      " - 1s - loss: 0.7595 - accuracy: 0.6617\n",
      "Epoch 19/60\n",
      " - 1s - loss: 0.7622 - accuracy: 0.6589\n",
      "Epoch 20/60\n",
      " - 1s - loss: 0.7498 - accuracy: 0.6658\n",
      "Epoch 21/60\n",
      " - 1s - loss: 0.7397 - accuracy: 0.6695\n",
      "Epoch 22/60\n",
      " - 1s - loss: 0.7457 - accuracy: 0.6647\n",
      "Epoch 23/60\n",
      " - 1s - loss: 0.7361 - accuracy: 0.6711\n",
      "Epoch 24/60\n",
      " - 1s - loss: 0.7099 - accuracy: 0.6836\n",
      "Epoch 25/60\n",
      " - 1s - loss: 0.7142 - accuracy: 0.6838\n",
      "Epoch 26/60\n",
      " - 1s - loss: 0.6906 - accuracy: 0.6981\n",
      "Epoch 27/60\n",
      " - 1s - loss: 0.6954 - accuracy: 0.6960\n",
      "Epoch 28/60\n",
      " - 1s - loss: 0.6753 - accuracy: 0.7004\n",
      "Epoch 29/60\n",
      " - 1s - loss: 0.6696 - accuracy: 0.7045\n",
      "Epoch 30/60\n",
      " - 1s - loss: 0.6551 - accuracy: 0.7140\n",
      "Epoch 31/60\n",
      " - 1s - loss: 0.6426 - accuracy: 0.7264\n",
      "Epoch 32/60\n",
      " - 1s - loss: 0.6569 - accuracy: 0.7147\n",
      "Epoch 33/60\n",
      " - 1s - loss: 0.6304 - accuracy: 0.7239\n",
      "Epoch 34/60\n",
      " - 1s - loss: 0.5999 - accuracy: 0.7419\n",
      "Epoch 35/60\n",
      " - 1s - loss: 0.5937 - accuracy: 0.7407\n",
      "Epoch 36/60\n",
      " - 1s - loss: 0.5840 - accuracy: 0.7467\n",
      "Epoch 37/60\n",
      " - 1s - loss: 0.5787 - accuracy: 0.7513\n",
      "Epoch 38/60\n",
      " - 1s - loss: 0.5960 - accuracy: 0.7463\n",
      "Epoch 39/60\n",
      " - 1s - loss: 0.5737 - accuracy: 0.7564\n",
      "Epoch 40/60\n",
      " - 1s - loss: 0.5276 - accuracy: 0.7711\n",
      "Epoch 41/60\n",
      " - 1s - loss: 0.5338 - accuracy: 0.7693\n",
      "Epoch 42/60\n",
      " - 1s - loss: 0.5261 - accuracy: 0.7769\n",
      "Epoch 43/60\n",
      " - 1s - loss: 0.5063 - accuracy: 0.7815\n",
      "Epoch 44/60\n",
      " - 1s - loss: 0.5252 - accuracy: 0.7778\n",
      "Epoch 45/60\n",
      " - 1s - loss: 0.4798 - accuracy: 0.7937\n",
      "Epoch 46/60\n",
      " - 1s - loss: 0.4811 - accuracy: 0.7983\n",
      "Epoch 47/60\n",
      " - 1s - loss: 0.4571 - accuracy: 0.8085\n",
      "Epoch 48/60\n",
      " - 1s - loss: 0.4509 - accuracy: 0.8101\n",
      "Epoch 49/60\n",
      " - 1s - loss: 0.4323 - accuracy: 0.8205\n",
      "Epoch 50/60\n",
      " - 1s - loss: 0.4306 - accuracy: 0.8193\n",
      "Epoch 51/60\n",
      " - 1s - loss: 0.4171 - accuracy: 0.8304\n",
      "Epoch 52/60\n",
      " - 1s - loss: 0.4253 - accuracy: 0.8212\n",
      "Epoch 53/60\n",
      " - 1s - loss: 0.4151 - accuracy: 0.8209\n",
      "Epoch 54/60\n",
      " - 1s - loss: 0.3906 - accuracy: 0.8322\n",
      "Epoch 55/60\n",
      " - 1s - loss: 0.3872 - accuracy: 0.8336\n",
      "Epoch 56/60\n",
      " - 1s - loss: 0.3512 - accuracy: 0.8583\n",
      "Epoch 57/60\n",
      " - 1s - loss: 0.3867 - accuracy: 0.8389\n",
      "Epoch 58/60\n",
      " - 1s - loss: 0.3543 - accuracy: 0.8534\n",
      "Epoch 59/60\n",
      " - 1s - loss: 0.3519 - accuracy: 0.8571\n",
      "Epoch 60/60\n",
      " - 1s - loss: 0.3354 - accuracy: 0.8640\n",
      "Normal Neural Network Suburban- Loss: 0.9362099087889143, Accuracy Suburban: 0.7325500845909119\n"
     ]
    }
   ],
   "source": [
    "model = Sequential()\n",
    "model.add(Dense(units=200, activation='relu', input_dim=19))\n",
    "model.add(Dense(units=200, activation='relu'))\n",
    "model.add(Dense(units=200, activation='relu'))\n",
    "model.add(Dense(units=200, activation='relu'))\n",
    "model.add(Dense(units=200, activation='relu'))\n",
    "model.add(Dense(units=200, activation='relu'))\n",
    "model.add(Dense(units=200, activation='relu'))\n",
    "model.add(Dense(units=4, activation='softmax'))\n",
    "model.compile(optimizer='adam',\n",
    "              loss='categorical_crossentropy',\n",
    "              metrics=['accuracy'])\n",
    "# set early stopping as callback\n",
    "callbacks = [EarlyStopping(monitor='val_loss', patience=2)]\n",
    "model.fit(\n",
    "    X_train_scaled_urban,\n",
    "    y_train_categorical_urban,\n",
    "    callbacks=callbacks,\n",
    "    epochs=60,\n",
    "    shuffle=True,\n",
    "    verbose=2\n",
    ")\n",
    "model_loss, model_accuracy = model.evaluate(\n",
    "    X_test_scaled_urban, y_test_categorical_urban, verbose=2)\n",
    "print(\n",
    "    f\"Normal Neural Network Suburban- Loss: {model_loss}, Accuracy Suburban: {model_accuracy}\")"
   ]
  },
  {
   "cell_type": "code",
   "execution_count": 60,
   "metadata": {},
   "outputs": [
    {
     "data": {
      "text/plain": [
       "30076    10.0\n",
       "6051     10.0\n",
       "21065    10.0\n",
       "13870     5.0\n",
       "10613    10.0\n",
       "19161    10.0\n",
       "6680      5.0\n",
       "19339     5.0\n",
       "9384     10.0\n",
       "14525     5.0\n",
       "775       5.0\n",
       "14097    10.0\n",
       "29189    10.0\n",
       "14383    10.0\n",
       "17294     0.0\n",
       "1597      5.0\n",
       "17777    10.0\n",
       "523       5.0\n",
       "21578    10.0\n",
       "20989    10.0\n",
       "5901      0.0\n",
       "7315      5.0\n",
       "18532     5.0\n",
       "4078     10.0\n",
       "12643     0.0\n",
       "14422     5.0\n",
       "20914    10.0\n",
       "5370      5.0\n",
       "12807    15.0\n",
       "5008      5.0\n",
       "20523     5.0\n",
       "21986    10.0\n",
       "4165     10.0\n",
       "9869     10.0\n",
       "22892     5.0\n",
       "4598     10.0\n",
       "8063     10.0\n",
       "18039     5.0\n",
       "15585    10.0\n",
       "19405     5.0\n",
       "23638     5.0\n",
       "10834     5.0\n",
       "7398      5.0\n",
       "19514    10.0\n",
       "21598     5.0\n",
       "21500    10.0\n",
       "12549     5.0\n",
       "14449    10.0\n",
       "27178     5.0\n",
       "14619     0.0\n",
       "14660    10.0\n",
       "11461    10.0\n",
       "15209    10.0\n",
       "5955      5.0\n",
       "18879     0.0\n",
       "5712      5.0\n",
       "9254     10.0\n",
       "15639     5.0\n",
       "3091      5.0\n",
       "10118     5.0\n",
       "Name: tilt, dtype: float64"
      ]
     },
     "execution_count": 60,
     "metadata": {},
     "output_type": "execute_result"
    }
   ],
   "source": [
    "y_test_urban[:60]"
   ]
  },
  {
   "cell_type": "code",
   "execution_count": null,
   "metadata": {},
   "outputs": [],
   "source": []
  },
  {
   "cell_type": "code",
   "execution_count": 67,
   "metadata": {},
   "outputs": [
    {
     "data": {
      "text/plain": [
       "array([10., 10., 10., 10.,  5.,  0., 10.,  5., 10.,  5., 10., 10.,  5.,\n",
       "        5.,  5., 10.,  5., 10.,  0.,  5.,  5.,  5.,  5.,  5.,  5.,  5.,\n",
       "        5.,  5.,  5.,  5.,  5.,  5.,  5., 10.,  5., 10.,  5., 10.,  5.,\n",
       "       10.,  5.,  5., 10., 10.,  5., 10.,  5.,  5.,  5.,  5., 10., 10.,\n",
       "        0.,  5.,  5.,  5.,  5.,  5.,  5.,  5., 10.,  5.,  5., 10., 10.,\n",
       "       10.,  5.,  0., 10.,  5.,  5., 10., 10.,  5.,  5.,  5.,  5., 10.,\n",
       "        5.,  5.,  5., 10., 10., 10., 10.,  5.,  5.,  5.,  5.,  5.,  5.,\n",
       "       10.,  5.,  0.,  5.,  5., 10., 10.,  5.,  5.,  5., 10., 10., 10.,\n",
       "       10.,  5.,  5., 10., 10.,  5.,  5.,  5., 10., 10., 10.,  0.,  5.,\n",
       "        5., 10., 10.,  5., 15.,  5.,  5.,  5.,  0., 10.,  5., 10., 10.,\n",
       "        5., 10.,  5., 10., 10.,  5.,  5., 10.,  5., 10., 10.,  5., 10.,\n",
       "        5.,  5., 10., 10., 10., 10.,  5., 10.,  5., 10.,  5., 10.,  5.,\n",
       "        5., 10.,  5.,  5.,  5., 10., 10.,  5.,  5., 10.,  5.,  5.,  5.,\n",
       "        5.,  5., 10.,  5.,  5., 10.,  5.,  5.,  0.,  5., 10.,  5.,  5.,\n",
       "       10., 10.,  5., 10.,  5.,  5., 10.,  5., 10., 10.,  5., 10.,  5.,\n",
       "        5.,  5., 15.,  5.,  5.,  5.,  5., 10.,  5., 15., 10.,  5.,  5.,\n",
       "        5., 10.,  5., 10.,  0.,  5.,  5., 10.,  5.,  5., 10.,  5.,  5.,\n",
       "        5., 10.,  5.,  5., 10.,  5.,  5., 10.,  5.,  0., 10.,  5., 10.,\n",
       "        5., 10.,  5.,  5., 10., 10.,  5.,  0., 10., 10.,  5.,  5., 10.,\n",
       "        5., 10.,  5.,  5.,  5.,  5., 10., 15.,  5., 10.,  5.,  5., 10.,\n",
       "       10.,  5., 10.,  5.,  5.,  5.,  5.,  5.,  5.,  5.,  5.,  5.,  5.,\n",
       "       10., 10.,  5.,  5.,  5.,  5.,  5.,  5.,  5., 10., 10.,  5., 10.,\n",
       "       10.,  5., 15., 10.,  5., 10., 10., 10.,  5.,  5., 10., 10.,  5.,\n",
       "       10.,  5.,  5.,  5.,  5.,  5., 10., 10.,  5., 10., 10.,  5.,  5.,\n",
       "        5., 10., 10.,  5.,  5.,  5.,  5., 10.,  5.,  5.,  5., 10., 10.,\n",
       "       10.,  5.,  5.,  5., 10.,  5., 10.,  5., 10.,  5.,  5., 10.,  5.,\n",
       "       10.,  5.,  5.,  5., 10.,  5.,  5., 10., 10., 10.,  5.,  5., 10.,\n",
       "        5., 10.,  5.,  5., 10.,  5.,  5., 10., 10.,  5.,  5.,  0., 10.,\n",
       "       10., 10.,  5.,  5.,  5.,  0.,  5., 10.,  5.,  5.,  5., 10.,  5.,\n",
       "        5.,  5.,  5., 10.,  5.,  5.,  5., 10.,  5.,  5.,  5.,  5.,  5.,\n",
       "        5.,  5.,  5.,  5.,  5.,  5.,  5., 10.,  5.,  5.,  5.,  5.,  5.,\n",
       "        5.,  5.,  0.,  5., 10., 10.,  5.,  5.,  5., 10.,  5.,  5.,  0.,\n",
       "        5.,  0., 10., 10.,  5.,  5.,  5.,  5.,  5., 10.,  5.,  5., 10.,\n",
       "        5.,  5., 10.,  5.,  5., 10.,  5.,  5., 10.,  5., 10.,  5.,  5.,\n",
       "        5.,  5.,  5., 10., 10.,  5.,  5.,  5.,  5.,  5.,  5.,  5.,  5.,\n",
       "        5.,  5.,  5.,  5., 10.,  5.,  5.,  0., 10.,  0.,  5., 10.,  5.,\n",
       "       10.,  5.,  5.,  5., 10.,  0.,  5.,  5., 10.,  0.,  5.,  5., 10.,\n",
       "        5., 10., 10., 10.,  5., 10.,  5., 10.,  5.,  5.,  5.,  5.,  5.,\n",
       "        5., 10., 10.,  5.,  5., 10.])"
      ]
     },
     "execution_count": 67,
     "metadata": {},
     "output_type": "execute_result"
    }
   ],
   "source": [
    "encoded_predictions = model.predict_classes(X_test_scaled_urban[:500])\n",
    "prediction_labels = label_encoder.inverse_transform(encoded_predictions)\n",
    "prediction_labels"
   ]
  },
  {
   "cell_type": "code",
   "execution_count": null,
   "metadata": {},
   "outputs": [],
   "source": []
  },
  {
   "cell_type": "code",
   "execution_count": null,
   "metadata": {},
   "outputs": [],
   "source": []
  },
  {
   "cell_type": "code",
   "execution_count": 62,
   "metadata": {},
   "outputs": [
    {
     "data": {
      "text/html": [
       "<div>\n",
       "<style scoped>\n",
       "    .dataframe tbody tr th:only-of-type {\n",
       "        vertical-align: middle;\n",
       "    }\n",
       "\n",
       "    .dataframe tbody tr th {\n",
       "        vertical-align: top;\n",
       "    }\n",
       "\n",
       "    .dataframe thead th {\n",
       "        text-align: right;\n",
       "    }\n",
       "</style>\n",
       "<table border=\"1\" class=\"dataframe\">\n",
       "  <thead>\n",
       "    <tr style=\"text-align: right;\">\n",
       "      <th></th>\n",
       "      <th>cs_call_completion</th>\n",
       "      <th>ps_call_completion</th>\n",
       "      <th>throughput_kbps</th>\n",
       "      <th>rtwp</th>\n",
       "      <th>traffic</th>\n",
       "      <th>quality_ecno</th>\n",
       "      <th>goodquality</th>\n",
       "      <th>users_data</th>\n",
       "      <th>users_total</th>\n",
       "      <th>coverage_rscp</th>\n",
       "      <th>banda</th>\n",
       "      <th>cpich</th>\n",
       "      <th>maxpower</th>\n",
       "      <th>traffic_load</th>\n",
       "      <th>tp_85%</th>\n",
       "      <th>height</th>\n",
       "      <th>mechtilt</th>\n",
       "      <th>hbwidth</th>\n",
       "      <th>vbwidth</th>\n",
       "    </tr>\n",
       "  </thead>\n",
       "  <tbody>\n",
       "    <tr>\n",
       "      <th>30076</th>\n",
       "      <td>99.7084</td>\n",
       "      <td>99.1239</td>\n",
       "      <td>295.4763</td>\n",
       "      <td>-98.7443</td>\n",
       "      <td>148.9967</td>\n",
       "      <td>-11.9004</td>\n",
       "      <td>81.3102</td>\n",
       "      <td>18.8427</td>\n",
       "      <td>38.5793</td>\n",
       "      <td>-83.4629</td>\n",
       "      <td>4437.0</td>\n",
       "      <td>356.0</td>\n",
       "      <td>460.0</td>\n",
       "      <td>89.0</td>\n",
       "      <td>2494.78</td>\n",
       "      <td>42.0</td>\n",
       "      <td>4.0</td>\n",
       "      <td>37.0</td>\n",
       "      <td>9.7</td>\n",
       "    </tr>\n",
       "  </tbody>\n",
       "</table>\n",
       "</div>"
      ],
      "text/plain": [
       "       cs_call_completion  ps_call_completion  throughput_kbps     rtwp  \\\n",
       "30076             99.7084             99.1239         295.4763 -98.7443   \n",
       "\n",
       "        traffic  quality_ecno  goodquality  users_data  users_total  \\\n",
       "30076  148.9967      -11.9004      81.3102     18.8427      38.5793   \n",
       "\n",
       "       coverage_rscp   banda  cpich  maxpower  traffic_load   tp_85%  height  \\\n",
       "30076       -83.4629  4437.0  356.0     460.0          89.0  2494.78    42.0   \n",
       "\n",
       "       mechtilt  hbwidth  vbwidth  \n",
       "30076       4.0     37.0      9.7  "
      ]
     },
     "execution_count": 62,
     "metadata": {},
     "output_type": "execute_result"
    }
   ],
   "source": [
    "X_test_urban[:1]"
   ]
  },
  {
   "cell_type": "code",
   "execution_count": null,
   "metadata": {},
   "outputs": [],
   "source": []
  },
  {
   "cell_type": "code",
   "execution_count": null,
   "metadata": {},
   "outputs": [],
   "source": []
  },
  {
   "cell_type": "code",
   "execution_count": null,
   "metadata": {},
   "outputs": [],
   "source": []
  },
  {
   "cell_type": "code",
   "execution_count": null,
   "metadata": {},
   "outputs": [],
   "source": []
  },
  {
   "cell_type": "code",
   "execution_count": 52,
   "metadata": {},
   "outputs": [
    {
     "data": {
      "text/plain": [
       "['deep_learning_urban_v2.sav']"
      ]
     },
     "execution_count": 52,
     "metadata": {},
     "output_type": "execute_result"
    }
   ],
   "source": [
    "# save fitted model to file\n",
    "import joblib\n",
    "filename = 'deep_learning_urban_v2.sav'\n",
    "joblib.dump(model, filename)"
   ]
  },
  {
   "cell_type": "code",
   "execution_count": null,
   "metadata": {},
   "outputs": [],
   "source": [
    "##RURAL"
   ]
  },
  {
   "cell_type": "code",
   "execution_count": 53,
   "metadata": {},
   "outputs": [
    {
     "name": "stdout",
     "output_type": "stream",
     "text": [
      "Epoch 1/60\n",
      " - 3s - loss: 1.0243 - accuracy: 0.5317\n",
      "Epoch 2/60\n"
     ]
    },
    {
     "name": "stderr",
     "output_type": "stream",
     "text": [
      "C:\\Programas\\Anaconda3\\envs\\PythonData\\lib\\site-packages\\keras\\callbacks\\callbacks.py:846: RuntimeWarning: Early stopping conditioned on metric `val_loss` which is not available. Available metrics are: loss,accuracy\n",
      "  (self.monitor, ','.join(list(logs.keys()))), RuntimeWarning\n"
     ]
    },
    {
     "name": "stdout",
     "output_type": "stream",
     "text": [
      " - 2s - loss: 0.9830 - accuracy: 0.5543\n",
      "Epoch 3/60\n",
      " - 2s - loss: 0.9714 - accuracy: 0.5590\n",
      "Epoch 4/60\n",
      " - 2s - loss: 0.9588 - accuracy: 0.5654\n",
      "Epoch 5/60\n",
      " - 2s - loss: 0.9518 - accuracy: 0.5663\n",
      "Epoch 6/60\n",
      " - 2s - loss: 0.9471 - accuracy: 0.5696\n",
      "Epoch 7/60\n",
      " - 2s - loss: 0.9348 - accuracy: 0.5741\n",
      "Epoch 8/60\n",
      " - 2s - loss: 0.9299 - accuracy: 0.5763\n",
      "Epoch 9/60\n",
      " - 3s - loss: 0.9225 - accuracy: 0.5835\n",
      "Epoch 10/60\n",
      " - 2s - loss: 0.9140 - accuracy: 0.5818\n",
      "Epoch 11/60\n",
      " - 2s - loss: 0.9098 - accuracy: 0.5839\n",
      "Epoch 12/60\n",
      " - 2s - loss: 0.9001 - accuracy: 0.5928\n",
      "Epoch 13/60\n",
      " - 3s - loss: 0.8897 - accuracy: 0.6005\n",
      "Epoch 14/60\n",
      " - 3s - loss: 0.8859 - accuracy: 0.5982\n",
      "Epoch 15/60\n",
      " - 2s - loss: 0.8749 - accuracy: 0.6003\n",
      "Epoch 16/60\n",
      " - 2s - loss: 0.8670 - accuracy: 0.6062\n",
      "Epoch 17/60\n",
      " - 3s - loss: 0.8634 - accuracy: 0.6107\n",
      "Epoch 18/60\n",
      " - 2s - loss: 0.8552 - accuracy: 0.6141\n",
      "Epoch 19/60\n",
      " - 3s - loss: 0.8459 - accuracy: 0.6157\n",
      "Epoch 20/60\n",
      " - 3s - loss: 0.8299 - accuracy: 0.6216\n",
      "Epoch 21/60\n",
      " - 3s - loss: 0.8188 - accuracy: 0.6301\n",
      "Epoch 22/60\n",
      " - 3s - loss: 0.8110 - accuracy: 0.6327\n",
      "Epoch 23/60\n",
      " - 3s - loss: 0.7947 - accuracy: 0.6417\n",
      "Epoch 24/60\n",
      " - 3s - loss: 0.7851 - accuracy: 0.6447\n",
      "Epoch 25/60\n",
      " - 3s - loss: 0.7762 - accuracy: 0.6500\n",
      "Epoch 26/60\n",
      " - 2s - loss: 0.7590 - accuracy: 0.6594\n",
      "Epoch 27/60\n",
      " - 2s - loss: 0.7421 - accuracy: 0.6695\n",
      "Epoch 28/60\n",
      " - 2s - loss: 0.7273 - accuracy: 0.6726\n",
      "Epoch 29/60\n",
      " - 2s - loss: 0.7101 - accuracy: 0.6843\n",
      "Epoch 30/60\n",
      " - 2s - loss: 0.6997 - accuracy: 0.6875\n",
      "Epoch 31/60\n",
      " - 2s - loss: 0.6893 - accuracy: 0.6938\n",
      "Epoch 32/60\n",
      " - 3s - loss: 0.6665 - accuracy: 0.7055\n",
      "Epoch 33/60\n",
      " - 3s - loss: 0.6434 - accuracy: 0.7174\n",
      "Epoch 34/60\n",
      " - 3s - loss: 0.6392 - accuracy: 0.7150\n",
      "Epoch 35/60\n",
      " - 3s - loss: 0.6172 - accuracy: 0.7273\n",
      "Epoch 36/60\n",
      " - 3s - loss: 0.5980 - accuracy: 0.7403\n",
      "Epoch 37/60\n",
      " - 3s - loss: 0.5820 - accuracy: 0.7416\n",
      "Epoch 38/60\n",
      " - 3s - loss: 0.5732 - accuracy: 0.7513\n",
      "Epoch 39/60\n",
      " - 3s - loss: 0.5479 - accuracy: 0.7576\n",
      "Epoch 40/60\n",
      " - 3s - loss: 0.5400 - accuracy: 0.7680\n",
      "Epoch 41/60\n",
      " - 3s - loss: 0.5134 - accuracy: 0.7776\n",
      "Epoch 42/60\n",
      " - 3s - loss: 0.5084 - accuracy: 0.7768\n",
      "Epoch 43/60\n",
      " - 7s - loss: 0.4818 - accuracy: 0.7904\n",
      "Epoch 44/60\n",
      " - 5s - loss: 0.4730 - accuracy: 0.7965\n",
      "Epoch 45/60\n",
      " - 3s - loss: 0.4618 - accuracy: 0.7991\n",
      "Epoch 46/60\n",
      " - 4s - loss: 0.4390 - accuracy: 0.8146\n",
      "Epoch 47/60\n",
      " - 3s - loss: 0.4372 - accuracy: 0.8176\n",
      "Epoch 48/60\n",
      " - 4s - loss: 0.4145 - accuracy: 0.8257\n",
      "Epoch 49/60\n",
      " - 4s - loss: 0.4096 - accuracy: 0.8297\n",
      "Epoch 50/60\n",
      " - 2s - loss: 0.3983 - accuracy: 0.8322\n",
      "Epoch 51/60\n",
      " - 4s - loss: 0.3931 - accuracy: 0.8361\n",
      "Epoch 52/60\n",
      " - 2s - loss: 0.3651 - accuracy: 0.8484\n",
      "Epoch 53/60\n",
      " - 2s - loss: 0.3563 - accuracy: 0.8522\n",
      "Epoch 54/60\n",
      " - 4s - loss: 0.3546 - accuracy: 0.8572\n",
      "Epoch 55/60\n",
      " - 4s - loss: 0.3347 - accuracy: 0.8610\n",
      "Epoch 56/60\n",
      " - 4s - loss: 0.3371 - accuracy: 0.8612\n",
      "Epoch 57/60\n",
      " - 5s - loss: 0.3219 - accuracy: 0.8699\n",
      "Epoch 58/60\n",
      " - 4s - loss: 0.3124 - accuracy: 0.8710\n",
      "Epoch 59/60\n",
      " - 3s - loss: 0.3091 - accuracy: 0.8739\n",
      "Epoch 60/60\n",
      " - 3s - loss: 0.2988 - accuracy: 0.8790\n",
      "Normal Neural Network Rural - Loss: 1.1210554677190505, Accuracy Rural: 0.7041800618171692\n"
     ]
    }
   ],
   "source": [
    "model = Sequential()\n",
    "model.add(Dense(units=200, activation='relu', input_dim=19))\n",
    "model.add(Dense(units=200, activation='relu'))\n",
    "model.add(Dense(units=200, activation='relu'))\n",
    "model.add(Dense(units=200, activation='relu'))\n",
    "model.add(Dense(units=200, activation='relu'))\n",
    "model.add(Dense(units=200, activation='relu'))\n",
    "model.add(Dense(units=200, activation='relu'))\n",
    "model.add(Dense(units=4, activation='softmax'))\n",
    "model.compile(optimizer='adam',\n",
    "              loss='categorical_crossentropy',\n",
    "              metrics=['accuracy'])\n",
    "# set early stopping as callback\n",
    "callbacks = [EarlyStopping(monitor='val_loss', patience=2)]\n",
    "model.fit(\n",
    "    X_train_scaled_rural,\n",
    "    y_train_categorical_rural,\n",
    "    callbacks=callbacks,\n",
    "    epochs=60,\n",
    "    shuffle=True,\n",
    "    verbose=2\n",
    ")\n",
    "model_loss, model_accuracy = model.evaluate(\n",
    "    X_test_scaled_rural, y_test_categorical_rural, verbose=2)\n",
    "print(\n",
    "    f\"Normal Neural Network Rural - Loss: {model_loss}, Accuracy Rural: {model_accuracy}\")"
   ]
  },
  {
   "cell_type": "code",
   "execution_count": 54,
   "metadata": {},
   "outputs": [
    {
     "data": {
      "text/plain": [
       "6977      0.0\n",
       "28071     5.0\n",
       "25088     5.0\n",
       "16737    10.0\n",
       "19093     5.0\n",
       "Name: tilt, dtype: float64"
      ]
     },
     "execution_count": 54,
     "metadata": {},
     "output_type": "execute_result"
    }
   ],
   "source": [
    "y_test_rural[:5]"
   ]
  },
  {
   "cell_type": "code",
   "execution_count": 70,
   "metadata": {},
   "outputs": [
    {
     "data": {
      "text/plain": [
       "array([ 0.,  5.,  5., 10.,  5.])"
      ]
     },
     "execution_count": 70,
     "metadata": {},
     "output_type": "execute_result"
    }
   ],
   "source": [
    "encoded_predictions = model.predict_classes(X_test_scaled_rural[:5])\n",
    "prediction_labels = label_encoder.inverse_transform(encoded_predictions)\n",
    "prediction_labels"
   ]
  },
  {
   "cell_type": "code",
   "execution_count": null,
   "metadata": {},
   "outputs": [],
   "source": []
  },
  {
   "cell_type": "code",
   "execution_count": 69,
   "metadata": {},
   "outputs": [
    {
     "data": {
      "text/html": [
       "<div>\n",
       "<style scoped>\n",
       "    .dataframe tbody tr th:only-of-type {\n",
       "        vertical-align: middle;\n",
       "    }\n",
       "\n",
       "    .dataframe tbody tr th {\n",
       "        vertical-align: top;\n",
       "    }\n",
       "\n",
       "    .dataframe thead th {\n",
       "        text-align: right;\n",
       "    }\n",
       "</style>\n",
       "<table border=\"1\" class=\"dataframe\">\n",
       "  <thead>\n",
       "    <tr style=\"text-align: right;\">\n",
       "      <th></th>\n",
       "      <th>cs_call_completion</th>\n",
       "      <th>ps_call_completion</th>\n",
       "      <th>throughput_kbps</th>\n",
       "      <th>rtwp</th>\n",
       "      <th>traffic</th>\n",
       "      <th>quality_ecno</th>\n",
       "      <th>goodquality</th>\n",
       "      <th>users_data</th>\n",
       "      <th>users_total</th>\n",
       "      <th>coverage_rscp</th>\n",
       "      <th>banda</th>\n",
       "      <th>cpich</th>\n",
       "      <th>maxpower</th>\n",
       "      <th>traffic_load</th>\n",
       "      <th>tp_85%</th>\n",
       "      <th>height</th>\n",
       "      <th>mechtilt</th>\n",
       "      <th>hbwidth</th>\n",
       "      <th>vbwidth</th>\n",
       "    </tr>\n",
       "  </thead>\n",
       "  <tbody>\n",
       "    <tr>\n",
       "      <th>6977</th>\n",
       "      <td>99.3917</td>\n",
       "      <td>98.3178</td>\n",
       "      <td>3643.3276</td>\n",
       "      <td>-91.2611</td>\n",
       "      <td>24.096</td>\n",
       "      <td>-5.2664</td>\n",
       "      <td>96.6217</td>\n",
       "      <td>5.7675</td>\n",
       "      <td>8.5123</td>\n",
       "      <td>-83.6823</td>\n",
       "      <td>4413.0</td>\n",
       "      <td>330.0</td>\n",
       "      <td>430.0</td>\n",
       "      <td>47.0</td>\n",
       "      <td>6304.91</td>\n",
       "      <td>40.0</td>\n",
       "      <td>4.0</td>\n",
       "      <td>65.0</td>\n",
       "      <td>7.0</td>\n",
       "    </tr>\n",
       "  </tbody>\n",
       "</table>\n",
       "</div>"
      ],
      "text/plain": [
       "      cs_call_completion  ps_call_completion  throughput_kbps     rtwp  \\\n",
       "6977             99.3917             98.3178        3643.3276 -91.2611   \n",
       "\n",
       "      traffic  quality_ecno  goodquality  users_data  users_total  \\\n",
       "6977   24.096       -5.2664      96.6217      5.7675       8.5123   \n",
       "\n",
       "      coverage_rscp   banda  cpich  maxpower  traffic_load   tp_85%  height  \\\n",
       "6977       -83.6823  4413.0  330.0     430.0          47.0  6304.91    40.0   \n",
       "\n",
       "      mechtilt  hbwidth  vbwidth  \n",
       "6977       4.0     65.0      7.0  "
      ]
     },
     "execution_count": 69,
     "metadata": {},
     "output_type": "execute_result"
    }
   ],
   "source": [
    "X_test_rural[:1]"
   ]
  },
  {
   "cell_type": "code",
   "execution_count": null,
   "metadata": {},
   "outputs": [],
   "source": []
  },
  {
   "cell_type": "code",
   "execution_count": null,
   "metadata": {},
   "outputs": [],
   "source": []
  },
  {
   "cell_type": "code",
   "execution_count": null,
   "metadata": {},
   "outputs": [],
   "source": [
    "    "
   ]
  },
  {
   "cell_type": "code",
   "execution_count": 56,
   "metadata": {},
   "outputs": [
    {
     "data": {
      "text/plain": [
       "['deep_learning_rural_v2.sav']"
      ]
     },
     "execution_count": 56,
     "metadata": {},
     "output_type": "execute_result"
    }
   ],
   "source": [
    "# save fitted model to file\n",
    "import joblib\n",
    "filename = 'deep_learning_rural_v2.sav'\n",
    "joblib.dump(model, filename)"
   ]
  },
  {
   "cell_type": "code",
   "execution_count": null,
   "metadata": {},
   "outputs": [],
   "source": []
  },
  {
   "cell_type": "code",
   "execution_count": null,
   "metadata": {},
   "outputs": [],
   "source": []
  },
  {
   "cell_type": "code",
   "execution_count": null,
   "metadata": {},
   "outputs": [],
   "source": []
  },
  {
   "cell_type": "code",
   "execution_count": 98,
   "metadata": {},
   "outputs": [
    {
     "data": {
      "text/plain": [
       "[[99.0,\n",
       "  98.5,\n",
       "  1000,\n",
       "  -95.0,\n",
       "  15.0,\n",
       "  -9.0,\n",
       "  85.0,\n",
       "  30.0,\n",
       "  60.0,\n",
       "  -85.0,\n",
       "  4413,\n",
       "  330,\n",
       "  430,\n",
       "  40.0,\n",
       "  700,\n",
       "  24.0,\n",
       "  4,\n",
       "  60,\n",
       "  7.5]]"
      ]
     },
     "execution_count": 98,
     "metadata": {},
     "output_type": "execute_result"
    }
   ],
   "source": [
    "testdata=[99.0, 98.5, 1000,\n",
    "    -95.0, 15.0, -9.0, 85.0, 30.0, 60.0,\n",
    "    -85.0, 4413, 330, 430, 40.0,\n",
    "    700, 24.0, 4, 60, 7.5];\n",
    "    testdata=[testdata]\n",
    "testdata"
   ]
  },
  {
   "cell_type": "code",
   "execution_count": 100,
   "metadata": {},
   "outputs": [
    {
     "data": {
      "text/html": [
       "<div>\n",
       "<style scoped>\n",
       "    .dataframe tbody tr th:only-of-type {\n",
       "        vertical-align: middle;\n",
       "    }\n",
       "\n",
       "    .dataframe tbody tr th {\n",
       "        vertical-align: top;\n",
       "    }\n",
       "\n",
       "    .dataframe thead th {\n",
       "        text-align: right;\n",
       "    }\n",
       "</style>\n",
       "<table border=\"1\" class=\"dataframe\">\n",
       "  <thead>\n",
       "    <tr style=\"text-align: right;\">\n",
       "      <th></th>\n",
       "      <th>cs_call_completion</th>\n",
       "      <th>ps_call_completion</th>\n",
       "      <th>throughput_kbps</th>\n",
       "      <th>rtwp</th>\n",
       "      <th>traffic</th>\n",
       "      <th>quality_ecno</th>\n",
       "      <th>goodquality</th>\n",
       "      <th>users_data</th>\n",
       "      <th>users_total</th>\n",
       "      <th>coverage_rscp</th>\n",
       "      <th>banda</th>\n",
       "      <th>cpich</th>\n",
       "      <th>maxpower</th>\n",
       "      <th>traffic_load</th>\n",
       "      <th>tp_85%</th>\n",
       "      <th>height</th>\n",
       "      <th>mechtilt</th>\n",
       "      <th>hbwidth</th>\n",
       "      <th>vbwidth</th>\n",
       "    </tr>\n",
       "  </thead>\n",
       "  <tbody>\n",
       "    <tr>\n",
       "      <th>0</th>\n",
       "      <td>99.0</td>\n",
       "      <td>98.5</td>\n",
       "      <td>1000</td>\n",
       "      <td>-95.0</td>\n",
       "      <td>15.0</td>\n",
       "      <td>-9.0</td>\n",
       "      <td>85.0</td>\n",
       "      <td>30.0</td>\n",
       "      <td>60.0</td>\n",
       "      <td>-85.0</td>\n",
       "      <td>4413</td>\n",
       "      <td>330</td>\n",
       "      <td>430</td>\n",
       "      <td>40.0</td>\n",
       "      <td>700</td>\n",
       "      <td>24.0</td>\n",
       "      <td>4</td>\n",
       "      <td>60</td>\n",
       "      <td>7.5</td>\n",
       "    </tr>\n",
       "  </tbody>\n",
       "</table>\n",
       "</div>"
      ],
      "text/plain": [
       "   cs_call_completion  ps_call_completion  throughput_kbps  rtwp  traffic  \\\n",
       "0                99.0                98.5             1000 -95.0     15.0   \n",
       "\n",
       "   quality_ecno  goodquality  users_data  users_total  coverage_rscp  banda  \\\n",
       "0          -9.0         85.0        30.0         60.0          -85.0   4413   \n",
       "\n",
       "   cpich  maxpower  traffic_load  tp_85%  height  mechtilt  hbwidth  vbwidth  \n",
       "0    330       430          40.0     700    24.0         4       60      7.5  "
      ]
     },
     "execution_count": 100,
     "metadata": {},
     "output_type": "execute_result"
    }
   ],
   "source": [
    "\n",
    "testdata_input = pd.DataFrame(testdata, columns=[\"cs_call_completion\", \"ps_call_completion\", \"throughput_kbps\", \"rtwp\",\n",
    "                                           \"traffic\",\"quality_ecno\",\"goodquality\",\"users_data\",\"users_total\",\n",
    "                                           \"coverage_rscp\",\"banda\",\"cpich\",\"maxpower\",\"traffic_load\",\"tp_85%\",\n",
    "                                           \"height\",\"mechtilt\",\"hbwidth\",\"vbwidth\"])\n",
    "testdata_input"
   ]
  },
  {
   "cell_type": "code",
   "execution_count": null,
   "metadata": {},
   "outputs": [],
   "source": []
  },
  {
   "cell_type": "code",
   "execution_count": 101,
   "metadata": {},
   "outputs": [
    {
     "name": "stdout",
     "output_type": "stream",
     "text": [
      "Predicted classes: [3.]\n"
     ]
    }
   ],
   "source": [
    "# load and score the student's model\n",
    "import joblib\n",
    "from sklearn.preprocessing import LabelEncoder\n",
    "from keras.utils import to_categorical\n",
    "\n",
    "# update file name with student file\n",
    "filename = 'deep_learning_denseurban.sav'\n",
    "loaded_model = joblib.load(filename)\n",
    "\n",
    "label_encoder = LabelEncoder()\n",
    "label_encoder.fit(y_test)\n",
    "encoded_y_test = label_encoder.transform(y_test)\n",
    "\n",
    "y_test_categorical = to_categorical(encoded_y_test)\n",
    "\n",
    "encoded_predictions = loaded_model.predict_classes(testdata_input)\n",
    "prediction_labels = label_encoder.inverse_transform(encoded_predictions)\n",
    "\n",
    "# Take number correct over total to get \"score\" for grading\n",
    "print(f\"Predicted classes: {prediction_labels}\")"
   ]
  },
  {
   "cell_type": "code",
   "execution_count": null,
   "metadata": {},
   "outputs": [],
   "source": []
  },
  {
   "cell_type": "code",
   "execution_count": null,
   "metadata": {},
   "outputs": [],
   "source": []
  },
  {
   "cell_type": "code",
   "execution_count": null,
   "metadata": {},
   "outputs": [],
   "source": []
  },
  {
   "cell_type": "code",
   "execution_count": null,
   "metadata": {},
   "outputs": [],
   "source": []
  },
  {
   "cell_type": "code",
   "execution_count": null,
   "metadata": {},
   "outputs": [],
   "source": []
  },
  {
   "cell_type": "code",
   "execution_count": null,
   "metadata": {},
   "outputs": [],
   "source": []
  },
  {
   "cell_type": "code",
   "execution_count": null,
   "metadata": {},
   "outputs": [],
   "source": []
  },
  {
   "cell_type": "code",
   "execution_count": null,
   "metadata": {},
   "outputs": [],
   "source": []
  },
  {
   "cell_type": "code",
   "execution_count": null,
   "metadata": {},
   "outputs": [],
   "source": []
  },
  {
   "cell_type": "code",
   "execution_count": null,
   "metadata": {},
   "outputs": [],
   "source": []
  },
  {
   "cell_type": "code",
   "execution_count": null,
   "metadata": {},
   "outputs": [],
   "source": []
  },
  {
   "cell_type": "code",
   "execution_count": null,
   "metadata": {},
   "outputs": [],
   "source": []
  },
  {
   "cell_type": "code",
   "execution_count": null,
   "metadata": {},
   "outputs": [],
   "source": []
  },
  {
   "cell_type": "code",
   "execution_count": null,
   "metadata": {},
   "outputs": [],
   "source": []
  },
  {
   "cell_type": "code",
   "execution_count": null,
   "metadata": {},
   "outputs": [],
   "source": []
  },
  {
   "cell_type": "code",
   "execution_count": null,
   "metadata": {},
   "outputs": [],
   "source": []
  },
  {
   "cell_type": "code",
   "execution_count": null,
   "metadata": {},
   "outputs": [],
   "source": []
  },
  {
   "cell_type": "code",
   "execution_count": null,
   "metadata": {},
   "outputs": [],
   "source": []
  },
  {
   "cell_type": "code",
   "execution_count": null,
   "metadata": {},
   "outputs": [],
   "source": []
  },
  {
   "cell_type": "code",
   "execution_count": null,
   "metadata": {},
   "outputs": [],
   "source": []
  },
  {
   "cell_type": "code",
   "execution_count": null,
   "metadata": {},
   "outputs": [],
   "source": []
  },
  {
   "cell_type": "code",
   "execution_count": null,
   "metadata": {},
   "outputs": [],
   "source": []
  },
  {
   "cell_type": "code",
   "execution_count": null,
   "metadata": {},
   "outputs": [],
   "source": []
  },
  {
   "cell_type": "code",
   "execution_count": null,
   "metadata": {},
   "outputs": [],
   "source": []
  },
  {
   "cell_type": "code",
   "execution_count": null,
   "metadata": {},
   "outputs": [],
   "source": []
  },
  {
   "cell_type": "code",
   "execution_count": null,
   "metadata": {},
   "outputs": [],
   "source": []
  },
  {
   "cell_type": "code",
   "execution_count": null,
   "metadata": {},
   "outputs": [],
   "source": []
  },
  {
   "cell_type": "code",
   "execution_count": null,
   "metadata": {},
   "outputs": [],
   "source": []
  },
  {
   "cell_type": "code",
   "execution_count": null,
   "metadata": {},
   "outputs": [],
   "source": []
  },
  {
   "cell_type": "code",
   "execution_count": null,
   "metadata": {},
   "outputs": [],
   "source": []
  },
  {
   "cell_type": "code",
   "execution_count": null,
   "metadata": {},
   "outputs": [],
   "source": []
  },
  {
   "cell_type": "code",
   "execution_count": null,
   "metadata": {},
   "outputs": [],
   "source": []
  },
  {
   "cell_type": "code",
   "execution_count": null,
   "metadata": {},
   "outputs": [],
   "source": []
  },
  {
   "cell_type": "code",
   "execution_count": null,
   "metadata": {},
   "outputs": [],
   "source": []
  },
  {
   "cell_type": "code",
   "execution_count": null,
   "metadata": {},
   "outputs": [],
   "source": []
  },
  {
   "cell_type": "code",
   "execution_count": null,
   "metadata": {},
   "outputs": [],
   "source": []
  },
  {
   "cell_type": "code",
   "execution_count": null,
   "metadata": {},
   "outputs": [],
   "source": []
  },
  {
   "cell_type": "code",
   "execution_count": null,
   "metadata": {},
   "outputs": [],
   "source": []
  },
  {
   "cell_type": "code",
   "execution_count": null,
   "metadata": {},
   "outputs": [],
   "source": []
  },
  {
   "cell_type": "code",
   "execution_count": null,
   "metadata": {},
   "outputs": [],
   "source": []
  }
 ],
 "metadata": {
  "kernelspec": {
   "display_name": "Python 3",
   "language": "python",
   "name": "python3"
  },
  "language_info": {
   "codemirror_mode": {
    "name": "ipython",
    "version": 3
   },
   "file_extension": ".py",
   "mimetype": "text/x-python",
   "name": "python",
   "nbconvert_exporter": "python",
   "pygments_lexer": "ipython3",
   "version": "3.6.8"
  }
 },
 "nbformat": 4,
 "nbformat_minor": 2
}
